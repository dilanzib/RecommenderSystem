{
 "cells": [
  {
   "cell_type": "markdown",
   "id": "c051e721",
   "metadata": {},
   "source": [
    "# Imports"
   ]
  },
  {
   "cell_type": "code",
   "execution_count": 1,
   "id": "82a773a6",
   "metadata": {},
   "outputs": [],
   "source": [
    "import pandas as pd\n",
    "import numpy as np\n",
    "from bs4 import BeautifulSoup\n",
    "import matplotlib.pyplot as plt\n",
    "import seaborn as sb\n",
    "from math import sqrt\n",
    "import scipy.sparse as sp\n",
    "from scipy.sparse.linalg import svds\n",
    "\n",
    "from sklearn.metrics.pairwise import pairwise_distances\n",
    "from sklearn.metrics.pairwise import cosine_similarity\n",
    "from sklearn.model_selection import train_test_split\n",
    "from sklearn.metrics import mean_squared_error"
   ]
  },
  {
   "cell_type": "markdown",
   "id": "39500174",
   "metadata": {},
   "source": [
    "# Data"
   ]
  },
  {
   "cell_type": "markdown",
   "id": "1eb6ebcb",
   "metadata": {},
   "source": [
    "Datased chosen: Jester Joke dataset (Dataset1: 4.1 million ratings, jester_dataset_1_1).\n",
    "https://eigentaste.berkeley.edu/dataset/"
   ]
  },
  {
   "cell_type": "code",
   "execution_count": 2,
   "id": "8a3de815",
   "metadata": {},
   "outputs": [],
   "source": [
    "#reading the excel data\n",
    "data=pd.read_excel('jester-data-1.xls',header=None)"
   ]
  },
  {
   "cell_type": "code",
   "execution_count": 3,
   "id": "423e12d4",
   "metadata": {},
   "outputs": [
    {
     "data": {
      "text/html": [
       "<div>\n",
       "<style scoped>\n",
       "    .dataframe tbody tr th:only-of-type {\n",
       "        vertical-align: middle;\n",
       "    }\n",
       "\n",
       "    .dataframe tbody tr th {\n",
       "        vertical-align: top;\n",
       "    }\n",
       "\n",
       "    .dataframe thead th {\n",
       "        text-align: right;\n",
       "    }\n",
       "</style>\n",
       "<table border=\"1\" class=\"dataframe\">\n",
       "  <thead>\n",
       "    <tr style=\"text-align: right;\">\n",
       "      <th></th>\n",
       "      <th>0</th>\n",
       "      <th>1</th>\n",
       "      <th>2</th>\n",
       "      <th>3</th>\n",
       "      <th>4</th>\n",
       "      <th>5</th>\n",
       "      <th>6</th>\n",
       "      <th>7</th>\n",
       "      <th>8</th>\n",
       "      <th>9</th>\n",
       "      <th>...</th>\n",
       "      <th>91</th>\n",
       "      <th>92</th>\n",
       "      <th>93</th>\n",
       "      <th>94</th>\n",
       "      <th>95</th>\n",
       "      <th>96</th>\n",
       "      <th>97</th>\n",
       "      <th>98</th>\n",
       "      <th>99</th>\n",
       "      <th>100</th>\n",
       "    </tr>\n",
       "  </thead>\n",
       "  <tbody>\n",
       "    <tr>\n",
       "      <th>0</th>\n",
       "      <td>74</td>\n",
       "      <td>-7.82</td>\n",
       "      <td>8.79</td>\n",
       "      <td>-9.66</td>\n",
       "      <td>-8.16</td>\n",
       "      <td>-7.52</td>\n",
       "      <td>-8.50</td>\n",
       "      <td>-9.85</td>\n",
       "      <td>4.17</td>\n",
       "      <td>-8.98</td>\n",
       "      <td>...</td>\n",
       "      <td>2.82</td>\n",
       "      <td>99.00</td>\n",
       "      <td>99.00</td>\n",
       "      <td>99.00</td>\n",
       "      <td>99.00</td>\n",
       "      <td>99.00</td>\n",
       "      <td>-5.63</td>\n",
       "      <td>99.00</td>\n",
       "      <td>99.00</td>\n",
       "      <td>99.00</td>\n",
       "    </tr>\n",
       "    <tr>\n",
       "      <th>1</th>\n",
       "      <td>100</td>\n",
       "      <td>4.08</td>\n",
       "      <td>-0.29</td>\n",
       "      <td>6.36</td>\n",
       "      <td>4.37</td>\n",
       "      <td>-2.38</td>\n",
       "      <td>-9.66</td>\n",
       "      <td>-0.73</td>\n",
       "      <td>-5.34</td>\n",
       "      <td>8.88</td>\n",
       "      <td>...</td>\n",
       "      <td>2.82</td>\n",
       "      <td>-4.95</td>\n",
       "      <td>-0.29</td>\n",
       "      <td>7.86</td>\n",
       "      <td>-0.19</td>\n",
       "      <td>-2.14</td>\n",
       "      <td>3.06</td>\n",
       "      <td>0.34</td>\n",
       "      <td>-4.32</td>\n",
       "      <td>1.07</td>\n",
       "    </tr>\n",
       "    <tr>\n",
       "      <th>2</th>\n",
       "      <td>49</td>\n",
       "      <td>99.00</td>\n",
       "      <td>99.00</td>\n",
       "      <td>99.00</td>\n",
       "      <td>99.00</td>\n",
       "      <td>9.03</td>\n",
       "      <td>9.27</td>\n",
       "      <td>9.03</td>\n",
       "      <td>9.27</td>\n",
       "      <td>99.00</td>\n",
       "      <td>...</td>\n",
       "      <td>99.00</td>\n",
       "      <td>99.00</td>\n",
       "      <td>99.00</td>\n",
       "      <td>9.08</td>\n",
       "      <td>99.00</td>\n",
       "      <td>99.00</td>\n",
       "      <td>99.00</td>\n",
       "      <td>99.00</td>\n",
       "      <td>99.00</td>\n",
       "      <td>99.00</td>\n",
       "    </tr>\n",
       "    <tr>\n",
       "      <th>3</th>\n",
       "      <td>48</td>\n",
       "      <td>99.00</td>\n",
       "      <td>8.35</td>\n",
       "      <td>99.00</td>\n",
       "      <td>99.00</td>\n",
       "      <td>1.80</td>\n",
       "      <td>8.16</td>\n",
       "      <td>-2.82</td>\n",
       "      <td>6.21</td>\n",
       "      <td>99.00</td>\n",
       "      <td>...</td>\n",
       "      <td>99.00</td>\n",
       "      <td>99.00</td>\n",
       "      <td>99.00</td>\n",
       "      <td>0.53</td>\n",
       "      <td>99.00</td>\n",
       "      <td>99.00</td>\n",
       "      <td>99.00</td>\n",
       "      <td>99.00</td>\n",
       "      <td>99.00</td>\n",
       "      <td>99.00</td>\n",
       "    </tr>\n",
       "    <tr>\n",
       "      <th>4</th>\n",
       "      <td>91</td>\n",
       "      <td>8.50</td>\n",
       "      <td>4.61</td>\n",
       "      <td>-4.17</td>\n",
       "      <td>-5.39</td>\n",
       "      <td>1.36</td>\n",
       "      <td>1.60</td>\n",
       "      <td>7.04</td>\n",
       "      <td>4.61</td>\n",
       "      <td>-0.44</td>\n",
       "      <td>...</td>\n",
       "      <td>5.19</td>\n",
       "      <td>5.58</td>\n",
       "      <td>4.27</td>\n",
       "      <td>5.19</td>\n",
       "      <td>5.73</td>\n",
       "      <td>1.55</td>\n",
       "      <td>3.11</td>\n",
       "      <td>6.55</td>\n",
       "      <td>1.80</td>\n",
       "      <td>1.60</td>\n",
       "    </tr>\n",
       "  </tbody>\n",
       "</table>\n",
       "<p>5 rows × 101 columns</p>\n",
       "</div>"
      ],
      "text/plain": [
       "   0      1      2      3      4     5     6     7     8      9    ...    91   \\\n",
       "0   74  -7.82   8.79  -9.66  -8.16 -7.52 -8.50 -9.85  4.17  -8.98  ...   2.82   \n",
       "1  100   4.08  -0.29   6.36   4.37 -2.38 -9.66 -0.73 -5.34   8.88  ...   2.82   \n",
       "2   49  99.00  99.00  99.00  99.00  9.03  9.27  9.03  9.27  99.00  ...  99.00   \n",
       "3   48  99.00   8.35  99.00  99.00  1.80  8.16 -2.82  6.21  99.00  ...  99.00   \n",
       "4   91   8.50   4.61  -4.17  -5.39  1.36  1.60  7.04  4.61  -0.44  ...   5.19   \n",
       "\n",
       "     92     93     94     95     96     97     98     99     100  \n",
       "0  99.00  99.00  99.00  99.00  99.00  -5.63  99.00  99.00  99.00  \n",
       "1  -4.95  -0.29   7.86  -0.19  -2.14   3.06   0.34  -4.32   1.07  \n",
       "2  99.00  99.00   9.08  99.00  99.00  99.00  99.00  99.00  99.00  \n",
       "3  99.00  99.00   0.53  99.00  99.00  99.00  99.00  99.00  99.00  \n",
       "4   5.58   4.27   5.19   5.73   1.55   3.11   6.55   1.80   1.60  \n",
       "\n",
       "[5 rows x 101 columns]"
      ]
     },
     "execution_count": 3,
     "metadata": {},
     "output_type": "execute_result"
    }
   ],
   "source": [
    "#Seeing the data\n",
    "data.head()"
   ]
  },
  {
   "cell_type": "markdown",
   "id": "f03c94c8",
   "metadata": {},
   "source": [
    "When reading the dataset informatione, one can see that 99 in this case means null.To be able better vizualise the data, the 99 will be replaced with NAN"
   ]
  },
  {
   "cell_type": "code",
   "execution_count": 4,
   "id": "544d8aeb",
   "metadata": {},
   "outputs": [
    {
     "data": {
      "text/html": [
       "<div>\n",
       "<style scoped>\n",
       "    .dataframe tbody tr th:only-of-type {\n",
       "        vertical-align: middle;\n",
       "    }\n",
       "\n",
       "    .dataframe tbody tr th {\n",
       "        vertical-align: top;\n",
       "    }\n",
       "\n",
       "    .dataframe thead th {\n",
       "        text-align: right;\n",
       "    }\n",
       "</style>\n",
       "<table border=\"1\" class=\"dataframe\">\n",
       "  <thead>\n",
       "    <tr style=\"text-align: right;\">\n",
       "      <th></th>\n",
       "      <th>0</th>\n",
       "      <th>1</th>\n",
       "      <th>2</th>\n",
       "      <th>3</th>\n",
       "      <th>4</th>\n",
       "      <th>5</th>\n",
       "      <th>6</th>\n",
       "      <th>7</th>\n",
       "      <th>8</th>\n",
       "      <th>9</th>\n",
       "      <th>...</th>\n",
       "      <th>91</th>\n",
       "      <th>92</th>\n",
       "      <th>93</th>\n",
       "      <th>94</th>\n",
       "      <th>95</th>\n",
       "      <th>96</th>\n",
       "      <th>97</th>\n",
       "      <th>98</th>\n",
       "      <th>99</th>\n",
       "      <th>100</th>\n",
       "    </tr>\n",
       "  </thead>\n",
       "  <tbody>\n",
       "    <tr>\n",
       "      <th>0</th>\n",
       "      <td>74.0</td>\n",
       "      <td>-7.82</td>\n",
       "      <td>8.79</td>\n",
       "      <td>-9.66</td>\n",
       "      <td>-8.16</td>\n",
       "      <td>-7.52</td>\n",
       "      <td>-8.50</td>\n",
       "      <td>-9.85</td>\n",
       "      <td>4.17</td>\n",
       "      <td>-8.98</td>\n",
       "      <td>...</td>\n",
       "      <td>2.82</td>\n",
       "      <td>NaN</td>\n",
       "      <td>NaN</td>\n",
       "      <td>NaN</td>\n",
       "      <td>NaN</td>\n",
       "      <td>NaN</td>\n",
       "      <td>-5.63</td>\n",
       "      <td>NaN</td>\n",
       "      <td>NaN</td>\n",
       "      <td>NaN</td>\n",
       "    </tr>\n",
       "    <tr>\n",
       "      <th>1</th>\n",
       "      <td>100.0</td>\n",
       "      <td>4.08</td>\n",
       "      <td>-0.29</td>\n",
       "      <td>6.36</td>\n",
       "      <td>4.37</td>\n",
       "      <td>-2.38</td>\n",
       "      <td>-9.66</td>\n",
       "      <td>-0.73</td>\n",
       "      <td>-5.34</td>\n",
       "      <td>8.88</td>\n",
       "      <td>...</td>\n",
       "      <td>2.82</td>\n",
       "      <td>-4.95</td>\n",
       "      <td>-0.29</td>\n",
       "      <td>7.86</td>\n",
       "      <td>-0.19</td>\n",
       "      <td>-2.14</td>\n",
       "      <td>3.06</td>\n",
       "      <td>0.34</td>\n",
       "      <td>-4.32</td>\n",
       "      <td>1.07</td>\n",
       "    </tr>\n",
       "    <tr>\n",
       "      <th>2</th>\n",
       "      <td>49.0</td>\n",
       "      <td>NaN</td>\n",
       "      <td>NaN</td>\n",
       "      <td>NaN</td>\n",
       "      <td>NaN</td>\n",
       "      <td>9.03</td>\n",
       "      <td>9.27</td>\n",
       "      <td>9.03</td>\n",
       "      <td>9.27</td>\n",
       "      <td>NaN</td>\n",
       "      <td>...</td>\n",
       "      <td>NaN</td>\n",
       "      <td>NaN</td>\n",
       "      <td>NaN</td>\n",
       "      <td>9.08</td>\n",
       "      <td>NaN</td>\n",
       "      <td>NaN</td>\n",
       "      <td>NaN</td>\n",
       "      <td>NaN</td>\n",
       "      <td>NaN</td>\n",
       "      <td>NaN</td>\n",
       "    </tr>\n",
       "    <tr>\n",
       "      <th>3</th>\n",
       "      <td>48.0</td>\n",
       "      <td>NaN</td>\n",
       "      <td>8.35</td>\n",
       "      <td>NaN</td>\n",
       "      <td>NaN</td>\n",
       "      <td>1.80</td>\n",
       "      <td>8.16</td>\n",
       "      <td>-2.82</td>\n",
       "      <td>6.21</td>\n",
       "      <td>NaN</td>\n",
       "      <td>...</td>\n",
       "      <td>NaN</td>\n",
       "      <td>NaN</td>\n",
       "      <td>NaN</td>\n",
       "      <td>0.53</td>\n",
       "      <td>NaN</td>\n",
       "      <td>NaN</td>\n",
       "      <td>NaN</td>\n",
       "      <td>NaN</td>\n",
       "      <td>NaN</td>\n",
       "      <td>NaN</td>\n",
       "    </tr>\n",
       "    <tr>\n",
       "      <th>4</th>\n",
       "      <td>91.0</td>\n",
       "      <td>8.50</td>\n",
       "      <td>4.61</td>\n",
       "      <td>-4.17</td>\n",
       "      <td>-5.39</td>\n",
       "      <td>1.36</td>\n",
       "      <td>1.60</td>\n",
       "      <td>7.04</td>\n",
       "      <td>4.61</td>\n",
       "      <td>-0.44</td>\n",
       "      <td>...</td>\n",
       "      <td>5.19</td>\n",
       "      <td>5.58</td>\n",
       "      <td>4.27</td>\n",
       "      <td>5.19</td>\n",
       "      <td>5.73</td>\n",
       "      <td>1.55</td>\n",
       "      <td>3.11</td>\n",
       "      <td>6.55</td>\n",
       "      <td>1.80</td>\n",
       "      <td>1.60</td>\n",
       "    </tr>\n",
       "  </tbody>\n",
       "</table>\n",
       "<p>5 rows × 101 columns</p>\n",
       "</div>"
      ],
      "text/plain": [
       "     0     1     2     3     4     5     6     7     8     9    ...   91   \\\n",
       "0   74.0 -7.82  8.79 -9.66 -8.16 -7.52 -8.50 -9.85  4.17 -8.98  ...  2.82   \n",
       "1  100.0  4.08 -0.29  6.36  4.37 -2.38 -9.66 -0.73 -5.34  8.88  ...  2.82   \n",
       "2   49.0   NaN   NaN   NaN   NaN  9.03  9.27  9.03  9.27   NaN  ...   NaN   \n",
       "3   48.0   NaN  8.35   NaN   NaN  1.80  8.16 -2.82  6.21   NaN  ...   NaN   \n",
       "4   91.0  8.50  4.61 -4.17 -5.39  1.36  1.60  7.04  4.61 -0.44  ...  5.19   \n",
       "\n",
       "    92    93    94    95    96    97    98    99    100  \n",
       "0   NaN   NaN   NaN   NaN   NaN -5.63   NaN   NaN   NaN  \n",
       "1 -4.95 -0.29  7.86 -0.19 -2.14  3.06  0.34 -4.32  1.07  \n",
       "2   NaN   NaN  9.08   NaN   NaN   NaN   NaN   NaN   NaN  \n",
       "3   NaN   NaN  0.53   NaN   NaN   NaN   NaN   NaN   NaN  \n",
       "4  5.58  4.27  5.19  5.73  1.55  3.11  6.55  1.80  1.60  \n",
       "\n",
       "[5 rows x 101 columns]"
      ]
     },
     "execution_count": 4,
     "metadata": {},
     "output_type": "execute_result"
    }
   ],
   "source": [
    "#Replacing 99 with NAN \n",
    "data=data.replace(99.00,np.nan)\n",
    "data.head()"
   ]
  },
  {
   "cell_type": "markdown",
   "id": "802264a9",
   "metadata": {},
   "source": [
    "One needs to remember that the first column shows how many jokes user has rated. At the moment this column is not needed and will be deleted."
   ]
  },
  {
   "cell_type": "code",
   "execution_count": 5,
   "id": "cb04c410",
   "metadata": {},
   "outputs": [
    {
     "data": {
      "text/html": [
       "<div>\n",
       "<style scoped>\n",
       "    .dataframe tbody tr th:only-of-type {\n",
       "        vertical-align: middle;\n",
       "    }\n",
       "\n",
       "    .dataframe tbody tr th {\n",
       "        vertical-align: top;\n",
       "    }\n",
       "\n",
       "    .dataframe thead th {\n",
       "        text-align: right;\n",
       "    }\n",
       "</style>\n",
       "<table border=\"1\" class=\"dataframe\">\n",
       "  <thead>\n",
       "    <tr style=\"text-align: right;\">\n",
       "      <th></th>\n",
       "      <th>1</th>\n",
       "      <th>2</th>\n",
       "      <th>3</th>\n",
       "      <th>4</th>\n",
       "      <th>5</th>\n",
       "      <th>6</th>\n",
       "      <th>7</th>\n",
       "      <th>8</th>\n",
       "      <th>9</th>\n",
       "      <th>10</th>\n",
       "      <th>...</th>\n",
       "      <th>91</th>\n",
       "      <th>92</th>\n",
       "      <th>93</th>\n",
       "      <th>94</th>\n",
       "      <th>95</th>\n",
       "      <th>96</th>\n",
       "      <th>97</th>\n",
       "      <th>98</th>\n",
       "      <th>99</th>\n",
       "      <th>100</th>\n",
       "    </tr>\n",
       "  </thead>\n",
       "  <tbody>\n",
       "    <tr>\n",
       "      <th>0</th>\n",
       "      <td>-7.82</td>\n",
       "      <td>8.79</td>\n",
       "      <td>-9.66</td>\n",
       "      <td>-8.16</td>\n",
       "      <td>-7.52</td>\n",
       "      <td>-8.50</td>\n",
       "      <td>-9.85</td>\n",
       "      <td>4.17</td>\n",
       "      <td>-8.98</td>\n",
       "      <td>-4.76</td>\n",
       "      <td>...</td>\n",
       "      <td>2.82</td>\n",
       "      <td>NaN</td>\n",
       "      <td>NaN</td>\n",
       "      <td>NaN</td>\n",
       "      <td>NaN</td>\n",
       "      <td>NaN</td>\n",
       "      <td>-5.63</td>\n",
       "      <td>NaN</td>\n",
       "      <td>NaN</td>\n",
       "      <td>NaN</td>\n",
       "    </tr>\n",
       "    <tr>\n",
       "      <th>1</th>\n",
       "      <td>4.08</td>\n",
       "      <td>-0.29</td>\n",
       "      <td>6.36</td>\n",
       "      <td>4.37</td>\n",
       "      <td>-2.38</td>\n",
       "      <td>-9.66</td>\n",
       "      <td>-0.73</td>\n",
       "      <td>-5.34</td>\n",
       "      <td>8.88</td>\n",
       "      <td>9.22</td>\n",
       "      <td>...</td>\n",
       "      <td>2.82</td>\n",
       "      <td>-4.95</td>\n",
       "      <td>-0.29</td>\n",
       "      <td>7.86</td>\n",
       "      <td>-0.19</td>\n",
       "      <td>-2.14</td>\n",
       "      <td>3.06</td>\n",
       "      <td>0.34</td>\n",
       "      <td>-4.32</td>\n",
       "      <td>1.07</td>\n",
       "    </tr>\n",
       "    <tr>\n",
       "      <th>2</th>\n",
       "      <td>NaN</td>\n",
       "      <td>NaN</td>\n",
       "      <td>NaN</td>\n",
       "      <td>NaN</td>\n",
       "      <td>9.03</td>\n",
       "      <td>9.27</td>\n",
       "      <td>9.03</td>\n",
       "      <td>9.27</td>\n",
       "      <td>NaN</td>\n",
       "      <td>NaN</td>\n",
       "      <td>...</td>\n",
       "      <td>NaN</td>\n",
       "      <td>NaN</td>\n",
       "      <td>NaN</td>\n",
       "      <td>9.08</td>\n",
       "      <td>NaN</td>\n",
       "      <td>NaN</td>\n",
       "      <td>NaN</td>\n",
       "      <td>NaN</td>\n",
       "      <td>NaN</td>\n",
       "      <td>NaN</td>\n",
       "    </tr>\n",
       "    <tr>\n",
       "      <th>3</th>\n",
       "      <td>NaN</td>\n",
       "      <td>8.35</td>\n",
       "      <td>NaN</td>\n",
       "      <td>NaN</td>\n",
       "      <td>1.80</td>\n",
       "      <td>8.16</td>\n",
       "      <td>-2.82</td>\n",
       "      <td>6.21</td>\n",
       "      <td>NaN</td>\n",
       "      <td>1.84</td>\n",
       "      <td>...</td>\n",
       "      <td>NaN</td>\n",
       "      <td>NaN</td>\n",
       "      <td>NaN</td>\n",
       "      <td>0.53</td>\n",
       "      <td>NaN</td>\n",
       "      <td>NaN</td>\n",
       "      <td>NaN</td>\n",
       "      <td>NaN</td>\n",
       "      <td>NaN</td>\n",
       "      <td>NaN</td>\n",
       "    </tr>\n",
       "    <tr>\n",
       "      <th>4</th>\n",
       "      <td>8.50</td>\n",
       "      <td>4.61</td>\n",
       "      <td>-4.17</td>\n",
       "      <td>-5.39</td>\n",
       "      <td>1.36</td>\n",
       "      <td>1.60</td>\n",
       "      <td>7.04</td>\n",
       "      <td>4.61</td>\n",
       "      <td>-0.44</td>\n",
       "      <td>5.73</td>\n",
       "      <td>...</td>\n",
       "      <td>5.19</td>\n",
       "      <td>5.58</td>\n",
       "      <td>4.27</td>\n",
       "      <td>5.19</td>\n",
       "      <td>5.73</td>\n",
       "      <td>1.55</td>\n",
       "      <td>3.11</td>\n",
       "      <td>6.55</td>\n",
       "      <td>1.80</td>\n",
       "      <td>1.60</td>\n",
       "    </tr>\n",
       "  </tbody>\n",
       "</table>\n",
       "<p>5 rows × 100 columns</p>\n",
       "</div>"
      ],
      "text/plain": [
       "    1     2     3     4     5     6     7     8     9     10   ...   91   \\\n",
       "0 -7.82  8.79 -9.66 -8.16 -7.52 -8.50 -9.85  4.17 -8.98 -4.76  ...  2.82   \n",
       "1  4.08 -0.29  6.36  4.37 -2.38 -9.66 -0.73 -5.34  8.88  9.22  ...  2.82   \n",
       "2   NaN   NaN   NaN   NaN  9.03  9.27  9.03  9.27   NaN   NaN  ...   NaN   \n",
       "3   NaN  8.35   NaN   NaN  1.80  8.16 -2.82  6.21   NaN  1.84  ...   NaN   \n",
       "4  8.50  4.61 -4.17 -5.39  1.36  1.60  7.04  4.61 -0.44  5.73  ...  5.19   \n",
       "\n",
       "    92    93    94    95    96    97    98    99    100  \n",
       "0   NaN   NaN   NaN   NaN   NaN -5.63   NaN   NaN   NaN  \n",
       "1 -4.95 -0.29  7.86 -0.19 -2.14  3.06  0.34 -4.32  1.07  \n",
       "2   NaN   NaN  9.08   NaN   NaN   NaN   NaN   NaN   NaN  \n",
       "3   NaN   NaN  0.53   NaN   NaN   NaN   NaN   NaN   NaN  \n",
       "4  5.58  4.27  5.19  5.73  1.55  3.11  6.55  1.80  1.60  \n",
       "\n",
       "[5 rows x 100 columns]"
      ]
     },
     "execution_count": 5,
     "metadata": {},
     "output_type": "execute_result"
    }
   ],
   "source": [
    "#Dropping the column\n",
    "data=data.drop(data.columns[[0]], axis=1)\n",
    "data.head()"
   ]
  },
  {
   "cell_type": "markdown",
   "id": "67397b63",
   "metadata": {},
   "source": [
    "### Changing the dataset into 3 columns"
   ]
  },
  {
   "cell_type": "markdown",
   "id": "c4e21d8d",
   "metadata": {},
   "source": [
    "This kind of dataframe is needed in the Collaborative filtering part of the assigment. "
   ]
  },
  {
   "cell_type": "code",
   "execution_count": 6,
   "id": "cce65dc9",
   "metadata": {},
   "outputs": [],
   "source": [
    "#new df\n",
    "new_df=pd.DataFrame()\n",
    "\n",
    "#lists for information\n",
    "user_list=[]\n",
    "joke_list=[]\n",
    "rate_list=[]\n",
    "for i in data:\n",
    "    for u in data.index:\n",
    "        user_list.append(u)\n",
    "        joke_list.append(i)\n",
    "        rate_list.append(data[i].iloc[u])\n",
    "        \n",
    "    #print(i) #to see how far in is the for loop"
   ]
  },
  {
   "cell_type": "code",
   "execution_count": 7,
   "id": "e35cb3b4",
   "metadata": {},
   "outputs": [
    {
     "data": {
      "text/html": [
       "<div>\n",
       "<style scoped>\n",
       "    .dataframe tbody tr th:only-of-type {\n",
       "        vertical-align: middle;\n",
       "    }\n",
       "\n",
       "    .dataframe tbody tr th {\n",
       "        vertical-align: top;\n",
       "    }\n",
       "\n",
       "    .dataframe thead th {\n",
       "        text-align: right;\n",
       "    }\n",
       "</style>\n",
       "<table border=\"1\" class=\"dataframe\">\n",
       "  <thead>\n",
       "    <tr style=\"text-align: right;\">\n",
       "      <th></th>\n",
       "      <th>userId</th>\n",
       "      <th>jokeId</th>\n",
       "      <th>rating</th>\n",
       "    </tr>\n",
       "  </thead>\n",
       "  <tbody>\n",
       "    <tr>\n",
       "      <th>0</th>\n",
       "      <td>0</td>\n",
       "      <td>1</td>\n",
       "      <td>-7.82</td>\n",
       "    </tr>\n",
       "    <tr>\n",
       "      <th>1</th>\n",
       "      <td>1</td>\n",
       "      <td>1</td>\n",
       "      <td>4.08</td>\n",
       "    </tr>\n",
       "    <tr>\n",
       "      <th>2</th>\n",
       "      <td>2</td>\n",
       "      <td>1</td>\n",
       "      <td>NaN</td>\n",
       "    </tr>\n",
       "    <tr>\n",
       "      <th>3</th>\n",
       "      <td>3</td>\n",
       "      <td>1</td>\n",
       "      <td>NaN</td>\n",
       "    </tr>\n",
       "    <tr>\n",
       "      <th>4</th>\n",
       "      <td>4</td>\n",
       "      <td>1</td>\n",
       "      <td>8.50</td>\n",
       "    </tr>\n",
       "  </tbody>\n",
       "</table>\n",
       "</div>"
      ],
      "text/plain": [
       "   userId  jokeId  rating\n",
       "0       0       1   -7.82\n",
       "1       1       1    4.08\n",
       "2       2       1     NaN\n",
       "3       3       1     NaN\n",
       "4       4       1    8.50"
      ]
     },
     "execution_count": 7,
     "metadata": {},
     "output_type": "execute_result"
    }
   ],
   "source": [
    "#Adding the lists to DF\n",
    "new_df['userId']=user_list\n",
    "new_df['jokeId']=joke_list\n",
    "new_df['rating']=rate_list\n",
    "new_df.head()"
   ]
  },
  {
   "cell_type": "markdown",
   "id": "f2ce69aa",
   "metadata": {},
   "source": [
    "# EDA"
   ]
  },
  {
   "cell_type": "code",
   "execution_count": 8,
   "id": "1b50fb3b",
   "metadata": {},
   "outputs": [
    {
     "data": {
      "text/plain": [
       "(24983, 100)"
      ]
     },
     "execution_count": 8,
     "metadata": {},
     "output_type": "execute_result"
    }
   ],
   "source": [
    "data.shape"
   ]
  },
  {
   "cell_type": "markdown",
   "id": "b32ccba5",
   "metadata": {},
   "source": [
    "Shape shows how many users (who are indexes) and jokes (columns) data has."
   ]
  },
  {
   "cell_type": "code",
   "execution_count": 9,
   "id": "5a55ce96",
   "metadata": {},
   "outputs": [
    {
     "data": {
      "text/html": [
       "<div>\n",
       "<style scoped>\n",
       "    .dataframe tbody tr th:only-of-type {\n",
       "        vertical-align: middle;\n",
       "    }\n",
       "\n",
       "    .dataframe tbody tr th {\n",
       "        vertical-align: top;\n",
       "    }\n",
       "\n",
       "    .dataframe thead th {\n",
       "        text-align: right;\n",
       "    }\n",
       "</style>\n",
       "<table border=\"1\" class=\"dataframe\">\n",
       "  <thead>\n",
       "    <tr style=\"text-align: right;\">\n",
       "      <th></th>\n",
       "      <th>1</th>\n",
       "      <th>2</th>\n",
       "      <th>3</th>\n",
       "      <th>4</th>\n",
       "      <th>5</th>\n",
       "      <th>6</th>\n",
       "      <th>7</th>\n",
       "      <th>8</th>\n",
       "      <th>9</th>\n",
       "      <th>10</th>\n",
       "      <th>...</th>\n",
       "      <th>91</th>\n",
       "      <th>92</th>\n",
       "      <th>93</th>\n",
       "      <th>94</th>\n",
       "      <th>95</th>\n",
       "      <th>96</th>\n",
       "      <th>97</th>\n",
       "      <th>98</th>\n",
       "      <th>99</th>\n",
       "      <th>100</th>\n",
       "    </tr>\n",
       "  </thead>\n",
       "  <tbody>\n",
       "    <tr>\n",
       "      <th>count</th>\n",
       "      <td>16452.000000</td>\n",
       "      <td>18184.000000</td>\n",
       "      <td>16642.000000</td>\n",
       "      <td>15608.000000</td>\n",
       "      <td>24977.000000</td>\n",
       "      <td>20431.000000</td>\n",
       "      <td>24976.000000</td>\n",
       "      <td>24981.000000</td>\n",
       "      <td>15752.000000</td>\n",
       "      <td>20324.000000</td>\n",
       "      <td>...</td>\n",
       "      <td>9672.000000</td>\n",
       "      <td>9889.000000</td>\n",
       "      <td>9988.000000</td>\n",
       "      <td>10200.000000</td>\n",
       "      <td>10265.000000</td>\n",
       "      <td>10370.000000</td>\n",
       "      <td>10520.000000</td>\n",
       "      <td>10666.000000</td>\n",
       "      <td>10910.000000</td>\n",
       "      <td>9943.000000</td>\n",
       "    </tr>\n",
       "    <tr>\n",
       "      <th>mean</th>\n",
       "      <td>0.904573</td>\n",
       "      <td>0.208460</td>\n",
       "      <td>0.316574</td>\n",
       "      <td>-1.449114</td>\n",
       "      <td>0.403556</td>\n",
       "      <td>1.594447</td>\n",
       "      <td>-0.429662</td>\n",
       "      <td>-0.624085</td>\n",
       "      <td>-0.557031</td>\n",
       "      <td>1.301231</td>\n",
       "      <td>...</td>\n",
       "      <td>2.038527</td>\n",
       "      <td>1.179744</td>\n",
       "      <td>2.504041</td>\n",
       "      <td>1.173482</td>\n",
       "      <td>1.039130</td>\n",
       "      <td>1.528003</td>\n",
       "      <td>1.673750</td>\n",
       "      <td>0.767692</td>\n",
       "      <td>-0.031244</td>\n",
       "      <td>1.354711</td>\n",
       "    </tr>\n",
       "    <tr>\n",
       "      <th>std</th>\n",
       "      <td>5.171798</td>\n",
       "      <td>5.597327</td>\n",
       "      <td>5.399806</td>\n",
       "      <td>5.234654</td>\n",
       "      <td>5.255700</td>\n",
       "      <td>4.900540</td>\n",
       "      <td>5.495931</td>\n",
       "      <td>4.929144</td>\n",
       "      <td>5.162224</td>\n",
       "      <td>5.087359</td>\n",
       "      <td>...</td>\n",
       "      <td>5.060445</td>\n",
       "      <td>5.127291</td>\n",
       "      <td>4.611339</td>\n",
       "      <td>5.140307</td>\n",
       "      <td>5.167043</td>\n",
       "      <td>4.852069</td>\n",
       "      <td>5.025076</td>\n",
       "      <td>5.393833</td>\n",
       "      <td>5.176806</td>\n",
       "      <td>5.300409</td>\n",
       "    </tr>\n",
       "    <tr>\n",
       "      <th>min</th>\n",
       "      <td>-9.950000</td>\n",
       "      <td>-9.950000</td>\n",
       "      <td>-9.950000</td>\n",
       "      <td>-9.950000</td>\n",
       "      <td>-9.950000</td>\n",
       "      <td>-9.950000</td>\n",
       "      <td>-9.950000</td>\n",
       "      <td>-9.950000</td>\n",
       "      <td>-9.950000</td>\n",
       "      <td>-9.950000</td>\n",
       "      <td>...</td>\n",
       "      <td>-9.950000</td>\n",
       "      <td>-9.950000</td>\n",
       "      <td>-9.950000</td>\n",
       "      <td>-9.950000</td>\n",
       "      <td>-9.950000</td>\n",
       "      <td>-9.950000</td>\n",
       "      <td>-9.950000</td>\n",
       "      <td>-9.950000</td>\n",
       "      <td>-9.950000</td>\n",
       "      <td>-9.950000</td>\n",
       "    </tr>\n",
       "    <tr>\n",
       "      <th>25%</th>\n",
       "      <td>-2.670000</td>\n",
       "      <td>-4.420000</td>\n",
       "      <td>-4.030000</td>\n",
       "      <td>-5.870000</td>\n",
       "      <td>-3.690000</td>\n",
       "      <td>-1.310000</td>\n",
       "      <td>-5.290000</td>\n",
       "      <td>-4.610000</td>\n",
       "      <td>-4.760000</td>\n",
       "      <td>-2.090000</td>\n",
       "      <td>...</td>\n",
       "      <td>-0.932500</td>\n",
       "      <td>-2.380000</td>\n",
       "      <td>-0.100000</td>\n",
       "      <td>-2.280000</td>\n",
       "      <td>-2.570000</td>\n",
       "      <td>-1.347500</td>\n",
       "      <td>-1.170000</td>\n",
       "      <td>-3.400000</td>\n",
       "      <td>-4.170000</td>\n",
       "      <td>-2.330000</td>\n",
       "    </tr>\n",
       "    <tr>\n",
       "      <th>50%</th>\n",
       "      <td>1.600000</td>\n",
       "      <td>0.830000</td>\n",
       "      <td>0.780000</td>\n",
       "      <td>-1.460000</td>\n",
       "      <td>1.120000</td>\n",
       "      <td>2.230000</td>\n",
       "      <td>-0.050000</td>\n",
       "      <td>-0.290000</td>\n",
       "      <td>-0.190000</td>\n",
       "      <td>1.940000</td>\n",
       "      <td>...</td>\n",
       "      <td>2.860000</td>\n",
       "      <td>1.800000</td>\n",
       "      <td>3.160000</td>\n",
       "      <td>1.750000</td>\n",
       "      <td>1.650000</td>\n",
       "      <td>2.140000</td>\n",
       "      <td>2.480000</td>\n",
       "      <td>1.460000</td>\n",
       "      <td>0.290000</td>\n",
       "      <td>2.140000</td>\n",
       "    </tr>\n",
       "    <tr>\n",
       "      <th>75%</th>\n",
       "      <td>4.900000</td>\n",
       "      <td>4.820000</td>\n",
       "      <td>4.660000</td>\n",
       "      <td>2.520000</td>\n",
       "      <td>4.470000</td>\n",
       "      <td>5.440000</td>\n",
       "      <td>3.880000</td>\n",
       "      <td>3.060000</td>\n",
       "      <td>3.300000</td>\n",
       "      <td>5.390000</td>\n",
       "      <td>...</td>\n",
       "      <td>6.120000</td>\n",
       "      <td>5.290000</td>\n",
       "      <td>6.070000</td>\n",
       "      <td>5.290000</td>\n",
       "      <td>5.100000</td>\n",
       "      <td>5.277500</td>\n",
       "      <td>5.630000</td>\n",
       "      <td>5.150000</td>\n",
       "      <td>3.980000</td>\n",
       "      <td>5.730000</td>\n",
       "    </tr>\n",
       "    <tr>\n",
       "      <th>max</th>\n",
       "      <td>9.370000</td>\n",
       "      <td>9.370000</td>\n",
       "      <td>9.370000</td>\n",
       "      <td>9.370000</td>\n",
       "      <td>9.370000</td>\n",
       "      <td>9.470000</td>\n",
       "      <td>9.610000</td>\n",
       "      <td>9.760000</td>\n",
       "      <td>9.900000</td>\n",
       "      <td>9.370000</td>\n",
       "      <td>...</td>\n",
       "      <td>9.560000</td>\n",
       "      <td>9.420000</td>\n",
       "      <td>9.370000</td>\n",
       "      <td>9.420000</td>\n",
       "      <td>9.370000</td>\n",
       "      <td>9.370000</td>\n",
       "      <td>9.370000</td>\n",
       "      <td>9.370000</td>\n",
       "      <td>9.370000</td>\n",
       "      <td>9.370000</td>\n",
       "    </tr>\n",
       "  </tbody>\n",
       "</table>\n",
       "<p>8 rows × 100 columns</p>\n",
       "</div>"
      ],
      "text/plain": [
       "                1             2             3             4             5    \\\n",
       "count  16452.000000  18184.000000  16642.000000  15608.000000  24977.000000   \n",
       "mean       0.904573      0.208460      0.316574     -1.449114      0.403556   \n",
       "std        5.171798      5.597327      5.399806      5.234654      5.255700   \n",
       "min       -9.950000     -9.950000     -9.950000     -9.950000     -9.950000   \n",
       "25%       -2.670000     -4.420000     -4.030000     -5.870000     -3.690000   \n",
       "50%        1.600000      0.830000      0.780000     -1.460000      1.120000   \n",
       "75%        4.900000      4.820000      4.660000      2.520000      4.470000   \n",
       "max        9.370000      9.370000      9.370000      9.370000      9.370000   \n",
       "\n",
       "                6             7             8             9             10   \\\n",
       "count  20431.000000  24976.000000  24981.000000  15752.000000  20324.000000   \n",
       "mean       1.594447     -0.429662     -0.624085     -0.557031      1.301231   \n",
       "std        4.900540      5.495931      4.929144      5.162224      5.087359   \n",
       "min       -9.950000     -9.950000     -9.950000     -9.950000     -9.950000   \n",
       "25%       -1.310000     -5.290000     -4.610000     -4.760000     -2.090000   \n",
       "50%        2.230000     -0.050000     -0.290000     -0.190000      1.940000   \n",
       "75%        5.440000      3.880000      3.060000      3.300000      5.390000   \n",
       "max        9.470000      9.610000      9.760000      9.900000      9.370000   \n",
       "\n",
       "       ...          91           92           93            94            95   \\\n",
       "count  ...  9672.000000  9889.000000  9988.000000  10200.000000  10265.000000   \n",
       "mean   ...     2.038527     1.179744     2.504041      1.173482      1.039130   \n",
       "std    ...     5.060445     5.127291     4.611339      5.140307      5.167043   \n",
       "min    ...    -9.950000    -9.950000    -9.950000     -9.950000     -9.950000   \n",
       "25%    ...    -0.932500    -2.380000    -0.100000     -2.280000     -2.570000   \n",
       "50%    ...     2.860000     1.800000     3.160000      1.750000      1.650000   \n",
       "75%    ...     6.120000     5.290000     6.070000      5.290000      5.100000   \n",
       "max    ...     9.560000     9.420000     9.370000      9.420000      9.370000   \n",
       "\n",
       "                96            97            98            99           100  \n",
       "count  10370.000000  10520.000000  10666.000000  10910.000000  9943.000000  \n",
       "mean       1.528003      1.673750      0.767692     -0.031244     1.354711  \n",
       "std        4.852069      5.025076      5.393833      5.176806     5.300409  \n",
       "min       -9.950000     -9.950000     -9.950000     -9.950000    -9.950000  \n",
       "25%       -1.347500     -1.170000     -3.400000     -4.170000    -2.330000  \n",
       "50%        2.140000      2.480000      1.460000      0.290000     2.140000  \n",
       "75%        5.277500      5.630000      5.150000      3.980000     5.730000  \n",
       "max        9.370000      9.370000      9.370000      9.370000     9.370000  \n",
       "\n",
       "[8 rows x 100 columns]"
      ]
     },
     "execution_count": 9,
     "metadata": {},
     "output_type": "execute_result"
    }
   ],
   "source": [
    "data.describe()"
   ]
  },
  {
   "cell_type": "markdown",
   "id": "97da4091",
   "metadata": {},
   "source": [
    "The table above, is interesting to look at because all the columns represent a joke and it's ratings. So one can see the  max and min score of the jokes as well as the mean and std. It also shows how many users have rated the joke.\n",
    "\n",
    "(Side note: If the value 99 wouldn't have been changed, then most of the columns would have a max value as 99)"
   ]
  },
  {
   "cell_type": "code",
   "execution_count": 10,
   "id": "00044efb",
   "metadata": {},
   "outputs": [
    {
     "data": {
      "text/plain": [
       "<function matplotlib.pyplot.show(close=None, block=None)>"
      ]
     },
     "execution_count": 10,
     "metadata": {},
     "output_type": "execute_result"
    },
    {
     "data": {
      "image/png": "[encoded data removed]",
      "text/plain": [
       "<Figure size 432x288 with 1 Axes>"
      ]
     },
     "metadata": {
      "needs_background": "light"
     },
     "output_type": "display_data"
    }
   ],
   "source": [
    "plt.hist(data, bins=20)\n",
    "plt.title(\"Ratings used\")\n",
    "plt.show"
   ]
  },
  {
   "cell_type": "markdown",
   "id": "ca79d1f4",
   "metadata": {},
   "source": [
    "This histogram shows how many times a specific review rate has been given."
   ]
  },
  {
   "cell_type": "code",
   "execution_count": 11,
   "id": "d089865b",
   "metadata": {
    "scrolled": true
   },
   "outputs": [
    {
     "data": {
      "image/png": "[encoded data removed]",
      "text/plain": [
       "<Figure size 3600x360 with 1 Axes>"
      ]
     },
     "metadata": {
      "needs_background": "light"
     },
     "output_type": "display_data"
    }
   ],
   "source": [
    "sb.catplot( data=data, kind='box', aspect=10)\n",
    "plt.title(\"Boxplot\")\n",
    "plt.show()"
   ]
  },
  {
   "cell_type": "markdown",
   "id": "c4ed21d4",
   "metadata": {},
   "source": [
    "The boxplot shows what is the area of usual joke rating and how far the min and max rating are from that area."
   ]
  },
  {
   "cell_type": "code",
   "execution_count": 12,
   "id": "b64d3721",
   "metadata": {},
   "outputs": [
    {
     "data": {
      "image/png": "[encoded data removed]",
      "text/plain": [
       "<Figure size 432x288 with 1 Axes>"
      ]
     },
     "metadata": {
      "needs_background": "light"
     },
     "output_type": "display_data"
    }
   ],
   "source": [
    "data.plot.density(legend=False,title=\"Density plot\")\n",
    "plt.show()"
   ]
  },
  {
   "cell_type": "markdown",
   "id": "f48cc30e",
   "metadata": {},
   "source": [
    "Here is a density plot which shows distribution of numeric values. It's like a histogram, but it isn't affected by bins like histogram is."
   ]
  },
  {
   "cell_type": "code",
   "execution_count": 13,
   "id": "fb862ee2",
   "metadata": {},
   "outputs": [
    {
     "data": {
      "text/plain": [
       "<AxesSubplot:>"
      ]
     },
     "execution_count": 13,
     "metadata": {},
     "output_type": "execute_result"
    },
    {
     "data": {
      "image/png": "[encoded data removed]",
      "text/plain": [
       "<Figure size 1440x1080 with 2 Axes>"
      ]
     },
     "metadata": {
      "needs_background": "light"
     },
     "output_type": "display_data"
    }
   ],
   "source": [
    "plt.subplots(figsize=(20,15))\n",
    "sb.heatmap(data.corr(),annot=False, cmap=sb.diverging_palette(200,10))"
   ]
  },
  {
   "cell_type": "markdown",
   "id": "8859f8ec",
   "metadata": {},
   "source": [
    "As we can see from the correlation heatmap, then we do actually have som positive collelation under the books reviews. "
   ]
  },
  {
   "cell_type": "markdown",
   "id": "ca004f1b",
   "metadata": {},
   "source": [
    "# Collaborative filtering"
   ]
  },
  {
   "cell_type": "markdown",
   "id": "b052f2bb",
   "metadata": {},
   "source": [
    "## Train test "
   ]
  },
  {
   "cell_type": "code",
   "execution_count": 14,
   "id": "e7c4d57b",
   "metadata": {},
   "outputs": [],
   "source": [
    "#Filling the nan.  \n",
    "new_df2=new_df.fillna(0) #I am going with 0 because it's a center number"
   ]
  },
  {
   "cell_type": "code",
   "execution_count": 15,
   "id": "63c9c976",
   "metadata": {},
   "outputs": [],
   "source": [
    "#Unicue users and jokes\n",
    "unic_users=new_df2.userId.nunique()\n",
    "unic_jokes=new_df2.jokeId.nunique()"
   ]
  },
  {
   "cell_type": "code",
   "execution_count": 16,
   "id": "dcd26a6b",
   "metadata": {},
   "outputs": [],
   "source": [
    "#train test split\n",
    "train_data, test_data=train_test_split(new_df2,test_size=0.25)"
   ]
  },
  {
   "cell_type": "markdown",
   "id": "4063e70e",
   "metadata": {},
   "source": [
    "## Memory based"
   ]
  },
  {
   "cell_type": "code",
   "execution_count": 17,
   "id": "ac958770",
   "metadata": {},
   "outputs": [],
   "source": [
    "#train user-item matix\n",
    "train_data_ma=np.zeros((unic_users, unic_jokes))\n",
    "for line in train_data.itertuples():\n",
    "    train_data_ma[line[1]-1, line[2]-1]=line[3]\n"
   ]
  },
  {
   "cell_type": "code",
   "execution_count": 18,
   "id": "5b0eacde",
   "metadata": {},
   "outputs": [],
   "source": [
    "#test user-item matrix\n",
    "test_data_ma=np.zeros((unic_users, unic_jokes))\n",
    "for line in test_data.itertuples():\n",
    "    test_data_ma[line[1]-1, line[2]-1]=line[3]"
   ]
  },
  {
   "cell_type": "code",
   "execution_count": 19,
   "id": "2ca9ad25",
   "metadata": {},
   "outputs": [],
   "source": [
    "#user similarity\n",
    "user_sim=pairwise_distances(train_data_ma, metric='cosine')"
   ]
  },
  {
   "cell_type": "code",
   "execution_count": 20,
   "id": "32e08646",
   "metadata": {},
   "outputs": [],
   "source": [
    "# User Prediction function\n",
    "def user_pre(ratings, sim):\n",
    "    rating_mean=ratings.mean(axis=1)\n",
    "    rat_diff=(ratings-rating_mean[:,np.newaxis])\n",
    "    pre=rating_mean[:,np.newaxis] + sim.dot(rat_diff) / np.array([np.abs(sim).sum(axis=None)]) #or should it be aaxis=0\n",
    "    return pre"
   ]
  },
  {
   "cell_type": "code",
   "execution_count": 21,
   "id": "2bbffe14",
   "metadata": {},
   "outputs": [],
   "source": [
    "user_pre=user_pre(train_data_ma, user_sim)"
   ]
  },
  {
   "cell_type": "code",
   "execution_count": 22,
   "id": "d7ea3d50",
   "metadata": {},
   "outputs": [],
   "source": [
    "#Evaluation function\n",
    "def rmse(p,t):\n",
    "    p=p[t.nonzero()].flatten()\n",
    "    t=t[t.nonzero()].flatten()\n",
    "    return sqrt(mean_squared_error(p,t))"
   ]
  },
  {
   "cell_type": "code",
   "execution_count": 23,
   "id": "52f76149",
   "metadata": {},
   "outputs": [
    {
     "name": "stdout",
     "output_type": "stream",
     "text": [
      "RMSE: 4.75820536161073\n"
     ]
    }
   ],
   "source": [
    "print(\"RMSE: \"+str(rmse(user_pre, test_data_ma)))"
   ]
  },
  {
   "cell_type": "markdown",
   "id": "f919cf44",
   "metadata": {},
   "source": [
    "## Model based"
   ]
  },
  {
   "cell_type": "code",
   "execution_count": 24,
   "id": "e0f14711",
   "metadata": {},
   "outputs": [
    {
     "name": "stdout",
     "output_type": "stream",
     "text": [
      "The sparity level: 99.0%\n"
     ]
    }
   ],
   "source": [
    "#The sparsity level\n",
    "sparsity=round(1.0-len(data)/float(unic_users*unic_jokes),3)\n",
    "print(\"The sparity level: \"+str(sparsity*100)+\"%\")"
   ]
  },
  {
   "cell_type": "code",
   "execution_count": 25,
   "id": "79cfd35f",
   "metadata": {},
   "outputs": [
    {
     "name": "stdout",
     "output_type": "stream",
     "text": [
      "RMSE: 4.373354573710967\n"
     ]
    }
   ],
   "source": [
    "u,s,vt = svds(train_data_ma, k=20)\n",
    "s_da_ma=np.diag(s)\n",
    "xrpe=np.dot(np.dot (u,s_da_ma),vt)\n",
    "print(\"RMSE: \"+str(rmse(xrpe, test_data_ma)))"
   ]
  },
  {
   "cell_type": "markdown",
   "id": "be5c5b44",
   "metadata": {},
   "source": [
    "## Old Memory based  User-Item RS"
   ]
  },
  {
   "cell_type": "markdown",
   "id": "e8c48e0d",
   "metadata": {},
   "source": [
    "At the beginning I missunderstood what to do in the assigment and in the last lecture I understood that this is not what the assigment should look like, but I had already coded this and it would have been shame to just delete. So I decided to leave it here, at the end of notebook even if it's not perfect, just for fun."
   ]
  },
  {
   "cell_type": "markdown",
   "id": "ba80073b",
   "metadata": {},
   "source": [
    "## Joke text dataset"
   ]
  },
  {
   "cell_type": "markdown",
   "id": "d10513c1",
   "metadata": {},
   "source": [
    "### Opening only one html joke file to see what we are dealing with"
   ]
  },
  {
   "cell_type": "code",
   "execution_count": 26,
   "id": "4a24fead",
   "metadata": {},
   "outputs": [
    {
     "data": {
      "text/plain": [
       "<html>\n",
       "<head>\n",
       "<title>Joke 1 of 25</title>\n",
       "</head>\n",
       "<body bgcolor=\"#fddf84\" text=\"black\">\n",
       "<center>\n",
       "<table cellpadding=\"0\" cellspacing=\"0\" width=\"620\">\n",
       "<td width=\"470\">\n",
       "<font size=\"+1\"> <br/>\n",
       "<!--begin of joke -->\n",
       "A man visits the doctor. The doctor says \"I have bad news for you.You have\n",
       "cancer and Alzheimer's disease\". <p>\n",
       "The man replies \"Well,thank God I don't have cancer!\"\n",
       "<!--end of joke -->\n",
       "</p></font></td></table>\n",
       "</center>\n",
       "</body>\n",
       "</html>"
      ]
     },
     "execution_count": 26,
     "metadata": {},
     "output_type": "execute_result"
    }
   ],
   "source": [
    "#Opening html file with BeautifulSoup.\n",
    "with open('./jokes/init1.html', \"r\", encoding='utf-8') as f:\n",
    "    soup = BeautifulSoup(f, 'html.parser')\n",
    "soup"
   ]
  },
  {
   "cell_type": "code",
   "execution_count": 27,
   "id": "0fe10640",
   "metadata": {},
   "outputs": [
    {
     "data": {
      "text/plain": [
       "'     A man visits the doctor. The doctor says \"I have bad news for you.You have cancer and Alzheimer\\'s disease\".  The man replies \"Well,thank God I don\\'t have cancer!\"  '"
      ]
     },
     "execution_count": 27,
     "metadata": {},
     "output_type": "execute_result"
    }
   ],
   "source": [
    "#Getting the joke\n",
    "j_text=soup.table.get_text()\n",
    "\n",
    "#Replacing \\n with space so that the text is more readable\n",
    "j_text=j_text.replace('\\n',' ')\n",
    "j_text"
   ]
  },
  {
   "cell_type": "markdown",
   "id": "ccf7eb2e",
   "metadata": {},
   "source": [
    "### Opening all the html files and making a list"
   ]
  },
  {
   "cell_type": "code",
   "execution_count": 28,
   "id": "b1a37ed3",
   "metadata": {},
   "outputs": [],
   "source": [
    "j_text_data=[]\n",
    "\n",
    "#Choosing this range, because we have 100 jokes\n",
    "for i in range(1,101):\n",
    "    with open('./jokes/init'+str(i)+'.html', \"r\", encoding='utf-8') as t:\n",
    "        j_text_data.append( BeautifulSoup(t, 'html.parser').table.get_text().replace('\\n',' '))"
   ]
  },
  {
   "cell_type": "code",
   "execution_count": 29,
   "id": "6210b075",
   "metadata": {},
   "outputs": [
    {
     "data": {
      "text/plain": [
       "['     A man visits the doctor. The doctor says \"I have bad news for you.You have cancer and Alzheimer\\'s disease\".  The man replies \"Well,thank God I don\\'t have cancer!\"  ',\n",
       " '          This couple had an excellent relationship going until one day he came home from work to find his girlfriend packing. He asked her why she was leaving him and she told him that she had heard awful things about him.   \"What could they possibly have said to make you move out?\"   \"They told me that you were a pedophile.\"   He replied, \"That\\'s an awfully big word for a ten year old.\"     ',\n",
       " \"          Q. What's 200 feet long and has 4 teeth?   A. The front row at a Willie Nelson Concert.   \",\n",
       " \"          Q. What's the difference between a man and a toilet?   A. A toilet doesn't follow you around after you use it.  \",\n",
       " \"          Q.\\tWhat's O. J. Simpson's Internet address?  A.\\tSlash, slash, backslash, slash, slash, escape.   \",\n",
       " \"          Bill & Hillary are on a trip back to Arkansas. They're almost out of gas, so Bill pulls into a service station on the outskirts of town. The attendant runs out of the station to serve them when Hillary realizes it's an old boyfriend from high school. She and the attendant chat as he gases up their car and cleans the windows. Then they all say good-bye.   As Bill pulls the car onto the road, he turns to Hillary and says, 'Now aren't you glad you married me and not him ? You could've been the wife of a grease monkey !'   To which Hillary replied, 'No, Bill. If I would have married him, you'd be pumping gas and he would be the President !'    \",\n",
       " \"          How many feminists does it take to screw in a light bulb? That's not funny.   \",\n",
       " '          Q. Did you hear about the dyslexic devil worshiper?   A. He sold his soul to Santa.   ',\n",
       " '          A country guy goes into a city bar that has a dress code, and the maitre d\\'  demands he wear a tie. Discouraged, the guy goes to his car to sulk when  inspiration strikes: He\\'s got jumper cables in the trunk! So he wraps them around his neck, sort of like a string tie (a bulky string tie to be sure) and returns to the bar. The maitre d\\' is reluctant, but says to the guy, \"Okay, you\\'re a pretty resourceful fellow, you can come in... but just don\\'t start anything\"!     ',\n",
       " '          Two cannibals are eating a clown, one turns to other and says:  \"Does this taste funny to you?     ',\n",
       " \"          Q. What do a hurricane, a tornado, and a redneck divorce all have in common?  A. Someone's going to lose their trailer...   \",\n",
       " '          A guy stood over his tee shot for what seemed an eternity, looking up, looking down, measuring the distance, figuring the wind direction and speed. Driving his partner nuts.  Finally his exasperated partner says, \"What the hell is taking so long? Hit the goddamn ball!\" The guy answers, \"My wife is up there watching me from the clubhouse. I want to make this a perfect shot.\" \"Well, hell, man, you don\\'t stand a snowball\\'s chance in hell of hitting her from here!\"   ',\n",
       " '          They asked the Japanese visitor if they have elections in his country.   \"Every Morning\" he answers.   ',\n",
       " '          The father was very anxious to marry off his only daughter so he wanted  to impress her date. \"Do  you like to screw,\" he says. \"Huh\" replied the  surprised first date. \"My daughter she loves to screw and she\\'s good at it,  you and her  should go screw,\" carefully explained the father. Now very  interested the boy replied, \"Yes, sir.\" Minutes later the girl came down  the stairs, kissed her father goodbye and the couple left. After only a  few minutes she reappeared, furious, dress torn, hair a mess and screamed \"Dammit, Daddy, it\\'s the TWIST, get it straight!\"    ',\n",
       " '          Q:  What did the blind person say when given some matzah?  A:  Who the hell wrote this?      ',\n",
       " '          Q. What is orange and sounds like a parrot?    A. A carrot.      ',\n",
       " '          How many men does it take to screw in a light bulb?   One...men will screw anything.     ',\n",
       " '          A dog walks into Western Union and asks the clerk to send a telegram. He fills out a form on which he writes down the telegram he wishes to send: \"Bow wow wow, Bow wow wow.\"  The clerk says, \"You can add another \\'Bow wow\\' for the same price.\"  The dog responded, \"Now wouldn\\'t that sound a little silly?\"    ',\n",
       " '          Q: If a person who speaks three languages is called \"tri-lingual,\" and a person who speaks two languages is called \"bi-lingual,\" what do call a person who only speaks one language?  A: American!     ',\n",
       " \"          What's the difference between a MacIntosh and an Etch-A-Sketch?   You don't have to shake the Mac to clear the screen.   \",\n",
       " \"              What's the difference between a used tire and 365 used condoms?  One's a Goodyear, the other's a great year.   \",\n",
       " '          A duck walks into a pharmacy and asks for a condom. The pharmacist says \"Would you like me to stick that on your bill?\" The duck says:  \"What kind of duck do you think I am!\"   ',\n",
       " \"          Q: What is the Australian word for a boomerang that won't    come back?   A: A stick   \",\n",
       " '          What do you get when you run over a parakeet with a lawnmower?  Shredded tweet.   ',\n",
       " '        Two kindergarten girls were talking outside: one said, \"You won\\'t believe what I saw on the patio yesterday--a condom!\"  The second girl asked, \"What\\'s a patio?\"    ',\n",
       " '          A guy walks into a bar and sits down next to an extremely gorgeous  woman.  The first thing he notices about her though, are her pants.   They were skin-tight, high-waisted and had no obvious mechanism  (zipper, buttons or velcro) for opening them.  After several minutes of puzzling over how she got the pants up over  her hips, he finally worked up the nerve to ask her.  \"Excuse me miss,  but how do you get into your pants?\"  \"Well,\" she replied, \"you can start by buying me a drink.\"      ',\n",
       " '         Clinton returns from a vacation in Arkansas and walks down  the steps of Air Force One with two pigs under his arms.  At the bottom of the steps, he says  to the honor guardsman, \"These are genuine Arkansas Razor-Back Hogs.  I got this one for Chelsea and this one for Hillary.\"    The guardsman replies, \"Nice trade, Sir.\"  ',\n",
       " '          A mechanical, electrical and a software engineer from Microsoft were driving through the desert when the car broke down. The mechanical engineer said \"It seems to be a problem with the fuel injection system, why don\\'t we pop the hood and I\\'ll take a look at it.\" To which the electrical engineer replied, \"No I think it\\'s just a loose ground wire, I\\'ll get out and take a look.\" Then, the Microsoft engineer jumps in. \"No, no, no. If we just close up all the windows, get out, wait a few minutes, get back in, and then reopen the windows everything will work fine.\"   ',\n",
       " '          An old Scotsmen is sitting with a younger Scottish gentleman and says the boy.  \"Ah, lad look out that window. You see that stone wall there, I built it with me own bare hands, placed every stone meself.  But do they call me MacGregor the wall builder? No!   He Takes a few sips of his beer then says, \"Aye, and look out on that lake and  eye that beautiful pier. I built it meself, laid every board and hammered each nail but do they call me MacGregor the pier builder? No!   He continues...\"And lad, you see that road? That too I build with me own bare  hands. Laid every inch of pavement meself, but do they call MacGregor the road builder? No!\"  Again he returns to his beer for a few sips, then says,  \"Agh, but you screw one sheep...\"   ',\n",
       " \"          Q: What's the difference between a Lawyer and a Plumber?  A: A Plumber works to unclog the system.      \",\n",
       " '           President Clinton looks up from his desk in the Oval Office to see  one of his aides nervously approach him.   \"What is it?\" exclaims the President.  \"It\\'s this Abortion Bill Mr. President, what do you want to do  about it?\" the aide replies.  \"Just go ahead and pay it.\" responds the President.     ',\n",
       " '          A man arrives at the gates of heaven. St. Peter asks, \"Religion?\"  The man says, \"Methodist.\" St. Peter looks down his list, and says,  \"Go to room 24, but be very quiet as you pass room 8.\"   Another man arrives at the gates of heaven. \"Religion?\" \"Baptist.\" \"Go to room 18, but be very quiet as you pass room 8.\"   A third man arrives at the gates. \"Religion?\" \"Jewish.\" \"Go to room 11, but be very quiet as you pass room 8.\"  The man says, \"I can understand there being different rooms for different religions, but why must I be quiet when I pass room 8?\" St. Peter tells him, \"Well the Catholics are in room 8,  and they think they\\'re the only ones here.   ',\n",
       " '          What do you call an American in the finals of the world cup?  \"Hey Beer Man!\"  ',\n",
       " '          Out in the backwoods of some midwestern state, little Johnny arrives at school an hour late.  Teacher: \"Why are you so late, John?\" Johny : \"My big brother got shot in the ass.\" (the teacher corrects his speech) Teacher: \"Rectum.\" Johnny : \"Wrecked him!? Hell, It damn near killed him!\"    ',\n",
       " '          An explorer in the deepest Amazon suddenly finds himself surrounded by a bloodthirsty group of natives. Upon surveying the situation, he says quietly to himself, \"Oh God, I\\'m screwed.\"   The sky darkens and a voice booms out, \"No, you are NOT screwed. Pick up that stone at your feet and bash in the head of the chief standing in front of you.\"   So with the stone he bashes the life out of the chief. Standing above the lifeless body, breathing heavily looking at 100 angry natives...   The voice booms out again, \"Okay ..... NOW you\\'re screwed.\"    ',\n",
       " '          A guy walks into a bar, orders a beer and says to the bartender, \"Hey, I got this great Polish Joke...\"   The barkeep glares at him and says in a warning tone of voice: \"Before you go telling that joke you better know that I\\'m Polish, both bouncers are Polish and so are most of my customers\"  \"Okay\" says the customer,\"I\\'ll tell it very slowly.\"    ',\n",
       " '          A Jewish young man was seeing a psychiatrist for an eating and sleeping disorder.   \"I am so obsessed with my mother... As soon as I go to sleep, I start dreaming, and everyone in my dream turns into my mother. I wake up in such a state, all I can do is go downstairs and eat a piece of toast.\"  The psychiatrist replies:  \"What, just one piece of toast, for a big boy like you?\"      ',\n",
       " '          \"May I take your order?\" the waiter asked.   \"Yes, how do you prepare your chickens?\"   \"Nothing special sir,\" he replied. \"We just tell them straight out that they\\'re going to die.\"   ',\n",
       " '          What is the difference between men and women:   A woman wants one man to satisfy her every need. A man wants every woman to satisfy his one need.      ',\n",
       " '          How many Irishmen does it take to change a lightbulb?  Two, one to hold the lightbulb and the other to drink until the room spins.     ',\n",
       " '         What does an atheist say during an orgasm? \"Oh Darwin! Oh Darwin!...\"     ',\n",
       " '         Two men are discussing the age old question: who enjoys sex more, the man or the woman?  A woman walks by and listens in for awhile and then interrupts:  \"Listen you guys. You know when your ear itches and you put in your  little finger and wiggle it around for awhile?  Afterward, which feels better, your finger or your ear?\"     ',\n",
       " '         Arnold Swartzeneger and Sylvester Stallone are making a movie about the lives of the great composers.   Stallone says \"I want to be Mozart.\"  Swartzeneger says: \"In that case...  I\\'ll be Bach.\"     ',\n",
       " '         A horse walks into a bar. Bartender says: \"So, why the long face?\"     ',\n",
       " '         A boy comes home from school and tells his mother that he got a part in the school play.  \"What part?\" the mother asked. \"I play a Jewish husband,\" the boy replied.   \"Go back to school and tell your teacher that you want a speaking role!\"     ',\n",
       " '         A couple has been married for 75 years. For the husband\\'s 95th birthday, his wife decides to surprise him by hiring a prostitute. That day, the doorbell rings. The husband uses his walker to get to the door and opens it.  A 21-year-old in a latex outfit smiles and says, \"Hi, I here to give you super sex!\"  The old man says, \"I\\'ll take the soup.\"     ',\n",
       " '         There was an engineer who had an exceptional gift for fixing all  things mechanical.  After serving his company loyally for over 30  years, he happily retired.  Several years later the company contacted  him regarding a seemingly impossible problem they were having with  one of their multi-million dollar machines. They had tried everything and  everyone else to get the machine fixed, but to no avail.  In  desperation, they called on the retired engineer who had solved so  many of their problems in the past. The engineer reluctantly took the challenge.  He spent a day studying  the huge machine.  At the end of the day, he marked a small \"x\" in  chalk on a particular component of the machine and proudly stated,  \"This is where your problem is\". The part was replaced and the machine worked perfectly again. The  company received a bill for $50,000 from the engineer for his  service.They demanded an itemized accounting of his charges. The  engineer responded briefly: One chalk mark                       $1  Knowing where to put it            $49,999 It was paid in full and the engineer retired again in peace.      ',\n",
       " '         The graduate with a Science degree asks, \"Why does it work?\" The graduate with an Engineering degree asks, \"How does it work?\" The graduate with an Accounting degree Asks, \"How much will it cost?\"  The graduate with a  Liberal Arts degree asks, \"Do you want fries  with  that?\"     ',\n",
       " '         Three engineering students were gathered together discussing the possible designers of the human body.   One said, \"It was a mechanical engineer. Just look at all the joints.\"   Another said, \"No, it was an electrical engineer.  The nervous systems many thousands of electrical connections.\"   The last said, \"Actually it was a civil engineer. Who else would run a toxic waste pipeline through a recreational area?\"     ',\n",
       " '         A guy goes into confession and says to the priest, \"Father, I\\'m 80 years old, widower, with 11 grandchildren. Last night I met two beautiful flight attendants. They took me home and I made love to both of them. Twice.\"  The priest said: \"Well, my son, when was the last time you were in confession?\"  \"Never Father, I\\'m Jewish.\"  \"So then, why are you telling me?\"  \"I\\'m telling everybody.\"     ',\n",
       " '         Did you hear that Clinton has announced there is a new national bird?   The spread eagle.     ',\n",
       " '         Q: What do Monica Lewinsky and Bob Dole have in common? A: They were both upset when Bill finished first.     ',\n",
       " '         One Sunday morning William burst into the living room and said, \"Dad! Mom! I have some great news for you! I am getting married to the most beautiful girl in town. She lives a block away and her name is Susan.\" After dinner, William\\'s dad took him aside. \"Son, I have to talk with you. Your mother and I have been married 30 years.. She\\'s a wonderful wife but she has never offered much excitement in the bedroom, so I used to fool around with women a lot. Susan is actually your half-sister, and I\\'m afraid you can\\'t marry her.\" William was heart-broken. After eight months he eventually started dating girls again. A year later he came home and very proudly announced, \"Dianne said yes! We\\'re getting married in June.\" Again his father insisted on another private conversation and broke the sad news. \"Dianne is your half-sister too, William. I\\'m awfully sorry about this.\" William was furious! He finally decided to go to his mother with the news. \"Dad has done so much harm.. I guess I\\'m never going to get married,\"  he complained. \"Every time I fall in love, Dad tells me the girl is my half-sister.\" His mother just shook her head. \"Don\\'t pay any attention to what he says, dear. He\\'s not really your father.\"     ',\n",
       " '         The Pope dies and, naturally, goes to heaven. He\\'s met by the reception committee, and after a whirlwind tour he is told that he can enjoy any of the myriad of recreations available. He decides that he wants to read all of the ancient original text of the Holy Scriptures, so he spends the next eon or so learning languages. After becoming a linguistic master, he sits down in the library and begins to pour over every version of the Bible, working back from most recent \"Easy Reading\" to the original script. All of a sudden there is a scream in the library. The Angels come running in only to find the Pope huddled in his chair, crying to himself and muttering, \"An \\'R\\'! The scribes left out the \\'R\\'.\"  A particularly concerned Angel takes him aside, offering comfort, asks him what the problem is and what does he mean.  After collecting his wits, the Pope sobs again, \"It\\'s the letter \\'R\\'. They left out the \\'R\\'. The word was supposed to be CELEBRATE!\"     ',\n",
       " '         A woman has twins, and gives them up for adoption.  One of them goes to a family in Egypt and is named \"Amal.\"  The other goes to a  family in Spain; they name him \"Juan.\"  Years later, Juan sends a picture of himself to his mom.  Upon receiving the picture, she tells her husband that she wishes she also had a picture of Amal.   Her husband responds, \"But they are twins-if you\\'ve seen Juan, you\\'ve seen   Amal.     ',\n",
       " '         A man and Cindy Crawford get stranded on a desert island.  After a couple of days they fall in love and start sleeping together.  Time pass the man seems frustrated, Cindy asks if there is anything she can do?  He says there is one thing, \"Could you put on this baseball cap and go to the other side of the island and answer me when I call you Bob?\"  She agrees.  Next day he is walking on the other side of the island, runs into her and says \"Hi Bob!\"   She says \"Hello, what\\'s up?\"   He replies: \"Bob you won\\'t believe it: I\\'ve been sleeping with Cindy Crawford for the past two weeks!!!!\"     ',\n",
       " \"         Why are there so many Jones's in the phone book? Because they all have phones.     \",\n",
       " '         How many teddybears does it take to change a lightbulb?  It takes only one teddybear, but it takes a whole lot of lightbulbs.     ',\n",
       " '         The Chukcha (Russian Eskimo) phones up the Russian Parliament Building.   A guard answers.  Chukcha:  \"What is required to become Parliament member?\" Guard:  \"What are you, an idiot?\" Chukcha:  \"Is it required?\"     ',\n",
       " '         What did the Buddhist say to the hot dog vendor? Make me one with everything.     ',\n",
       " '         During a recent publicity outing, Hillary sneaked off to visit a fortune teller of some local repute.  In a dark and hazy room, peering into a crystal ball, the mystic delivered grave news. \"There\\'s no easy way to say this, so I\\'ll just be blunt: Prepare yourself to be a widow.  Your husband will die a violent and horrible death this year.\" Visibly shaken, Hillary stared at the woman\\'s lined face, then at  the single flickering candle, then down at her hands.  She took a few  deep breaths to compose herself.  She simply had to know.  She met the fortune teller\\'s gaze, steadied her voice, and asked her question. \"Will I be acquitted?\"     ',\n",
       " '         A group of  managers were given the assignment to measure the height of a flagpole. So they go out to the flagpole with ladders and tape measures, and they\\'re falling off the ladders, dropping the tape measures - the whole thing is just a mess. An engineer comes along and sees what they\\'re trying to do, walks over, pulls the flagpole out of the ground, lays it flat, measures it from end to end, gives the measurement to one of the managers and walks away. After the engineer has gone, one manager turns to another and laughs. \"Isn\\'t that just like an engineer, we\\'re looking for the  height and he gives us the length.\"     ',\n",
       " '         An engineer, a physicist and a mathematician are sleeping in a room. There is a fire in the room. The engineer wakes up, sees the fire, picks up the bucket of water and douses the fire and goes back to sleep.   Again there is fire in the room. This time, the physicist wakes up, notices the bucket, fills it with water, calculates the optimal trajectory and douses the fire in minimum amount of water and goes back to sleep.   Again there is fire. This time the mathematician wakes up.  He looks at the fire, looks at the bucket and the water and exclaims, \"A solution exists\" and goes back to sleep.     ',\n",
       " '         What is the rallying cry of the International Dyslexic Pride movement? Dyslexics Untie!     ',\n",
       " '         Two Rednecks were seated at the end of a bar when a young lady seated a few stools up began to choke on a piece of hamburger.  She was turning blue and obviously in serious respiratory distress. One said to the other, \"That gal there is having a bad time!\"  The other agreed and said \"Think we should go help?\"  \"You bet,\" said the first,and with that, he ran over and said, \"Can you breathe??\"  She shook her head no.  He said, \"Can you speak??\"  She again shook her head no. With that, he pulled up her skirt and licked her on the butt. She was so shocked, she coughed up the obstruction and began to breathe-with great relief. The redneck walked back to his friend and said, \"Funny how that hind lick maneuver always works.\"     ',\n",
       " '         A lawyer opened the door of his BMW, when suddenly a car came along and hit the door, ripping it off completely.  When the police arrived at the scene, the lawyer was complaining bitterly about the damage to his precious BMW.   \"Officer, look what they\\'ve done to my Beeeeemer!!!\", he whined.   \"You lawyers are so materialistic, you make me sick!!!\"  retorted the officer.  \"You\\'re so worried about your stupid BMW, that you didn\\'t even notice that your left arm was ripped off!!!\"   \"Oh my gaaaad...\", replied the lawyer, finally noticing the bloody left shoulder where his arm once was.  \"Where\\'s my Rolex???!!!!\"     ',\n",
       " '         Once upon a time, two brooms fell in love and decided to get married. Before the ceremony, the bride broom informed the groom broom that  she was expecting a little whiskbroom. The groom broom was aghast!  \"How is this possible?\" he asked. \"We\\'ve never swept together!     ',\n",
       " '         A man piloting a hot air balloon discovers he has wandered off course and is hopelessly lost. He descends to a lower altitude and locates a man down on the ground. He lowers the balloon further and shouts \"Excuse me, can you tell me where I am?\"  The man below says: \"Yes, you\\'re in a hot air balloon, about 30 feet above this field.\"  \"You must work in Information Technology,\" says the balloonist.  \"Yes I do,\" replies the man. \"And how did you know that?\"  \"Well,\" says the balloonist, \"what you told me is technically correct, but of no use to anyone.\"  The man below says, \"You must work in management.\"  \"I do,\" replies the balloonist, \"how did you know?\"  \"Well,\" says the man, \"you don\\'t know where you are, or where you\\'re going, but you expect my immediate help. You\\'re in the same position you were before we met, but now it\\'s my fault!\"      ',\n",
       " '         This guys wife asks, \"Honey if I died would you remarry?\" and he replies, \"Well, after a considerable period of grieving, we all need companionship, I guess I would.\"  She then asks, \"If I died and you remarried, would she live in this house?\" and he replies, \"We\\'ve spent a lot of time and money getting this house just the way we want it. I\\'m not going to get rid of my house, I guess she would.\"  \"If I died and you remarried, and she lived in this house, would she sleep in our bed?\" and he says, \"That bed is brand new, we just paid two thousand dollars for it, it\\'s going to last a long time, I guess she would.\"  So she asks, \"If I died and you remarried, and she lived in this house, and slept in our bed, would she use my golf clubs?\"  \"Oh no, she\\'s left handed.\"     ',\n",
       " '         Employer to applicant: \"In this job we need someone who is responsible.\"  Applicant: \"I\\'m the one you want. On my last job, every time anything went wrong, they said I was responsible.\"      ',\n",
       " '       At a recent Sacramento PC Users Group meeting, a company was demonstrating its latest speech- recognition software.   A representative from the company was just about ready to start the demonstration and asked everyone in the room to quiet down.  Just then someone in the back of the room yelled, \"Format C: Return.\"  Someone else chimed in: \"Yes, Return\"  Unfortunately, the software worked.     ',\n",
       " '       On the first day of college, the Dean addressed the students, pointing out some of the rules:  \"The female dormitory will be out-of-bounds for all male students and the male dormitory to the female students. Anybody caught breaking this rule will be finded $20 the first time.\" He continued, \"Anybody  caught breaking this rule the second time will be fined $60. Being caught a third time will cost you a fine of $180. Are there any questions ?\"  At this point, a male student in the crowd inquired: \"How much for a season pass ?\"    ',\n",
       " \"       Q: What is the difference between George  Washington, Richard Nixon, and Bill Clinton?  A: Washington couldn't tell a lie, Nixon couldn't   tell the truth, and Clinton doesn't know the difference.    \",\n",
       " '       Q: How many stalkers does it take to change a light bulb?  A: Two. One to replace the bulb, and the other to watch it day and night.    ',\n",
       " '       Q: Do you know the difference between an intelligent male and the Sasquatch?  A: There have been actual reported sightings of the Sasquatch.    ',\n",
       " \"       There once was a man and a woman that both  got in  a terrible car wreck. Both of their vehicles   were completely destroyed, buy fortunately, no one  was   hurt.  In thankfulness, the woman said to the  man, 'We are both okay, so we should celebrate. I have   a  bottle of wine in my car, let's open it.'          So the woman got the bottleout of the car, and  handed it to the man. The man took a really big drink,  and handed the woman the bottle. The  woman  closed the bottle and put it down. The man  asked,   'Aren't you going to take a drink?'   The woman cleverly replied,  'No, I think I'll  just  wait for the cops to get here.'    \",\n",
       " '       If pro- is the opposite of con- then congress must be the opposite of progress.    ',\n",
       " \"       Q: What's the difference between the government  and  the Mafia?  A: One of them is organized.    \",\n",
       " '       Q: Ever wonder why the IRS calls it Form 1040?  A: Because for every $50 that you earn, you get 10 and they get 40.    ',\n",
       " '       Hillary, Bill Clinton and the Pope are sitting together on an airplane.  Bill says \"I could throw one thousand dollar bill out of this plane and make one person very happy.\"  Hillary says \"I could throw 10 hundred dollar bills out of the plane and make 10 people very happy.\"  The Pope chips in and says \"I could throw Bill out of the airplane and make the whole  country happy.\"    ',\n",
       " '       An Asian man goes into a New York CityBank to exchange 10,000 yen for American Currency.  The teller gives him $72.00.  The next month the Asian man goes into the same bank with 10,000 yen and receives $62.00. He asks, \"How come? Only $62.00?\" The teller says \"Fluctuations- Fluctuations!\"  Whereupon the Asian man looks back at the teller and says \"Fluk you Amelicans too!\"    ',\n",
       " '       Q: How do you keep a computer programmer in the  shower all day long?  A: Give them a shampoo with a label that says \"rinse, lather, repeat\".    ',\n",
       " '      What a woman says:  \"This place is a mess!  C\\'mon, You and I need to clean up, Your stuff is lying on the floor and you\\'ll have no clothes to wear, if we don\\'t do laundry right now!\"  What a man hears:  blah, blah, blah, blah, C\\'mon blah, blah, blah, blah, you and I blah, blah, blah, blah, on the floor blah, blah, blah, blah, no clothes blah, blah, blah, blah, RIGHT NOW!    ',\n",
       " '       Q: What is the difference between Mechanical Engineers and Civil  Engineers?   A: Mechanical Engineers build weapons, Civil Engineers build targets.    ',\n",
       " '       Q: How many Presidents does it take to screw in a light bulb?  A: It depends upon your definition of screwing a light bulb.    ',\n",
       " '       A neutron walks into a bar and orders a drink. \"How much do I owe you?\" the neutron asks.  The bartender replies, \"for you, no charge.\"    ',\n",
       " '       A man, recently completing a routine physical examination receives a phone call from his doctor.  The doctor says, \"I have some good news and some bad news.\"  The man says, \"OK, give me the good news first.\"  The doctor says, \"The good news is, you have 24 hours to live.\"  The man replies, \"Shit!  That\\'s the good news?  Then what\\'s the bad news?\"  The doctor says, \"The bad news is, I forgot to call you yesterday.\"    ',\n",
       " '       A Czechoslovakian man felt his eyesight was growing steadily worse, and  felt it was time to go see an optometrist.   The doctor started with some simple testing, and showed him a standard eye  chart with letters of diminishing size: CRKBNWXSKZY. . .   \"Can you read this?\" the doctor asked.   \"Read it?\" the Czech answered. \"Doc, I know him!\"    ',\n",
       " \"       A radio conversation of a US naval  ship with Canadian authorities ...   Americans: Please divert your course 15 degrees to the North to avoid a collision.  Canadians: Recommend you divert YOUR course 15 degrees to the South to  avoid a collision.  Americans: This is the Captain of a US Navy ship.  I say again, divert  YOUR course.  Canadians: No.  I say again, you divert YOUR course.  Americans: This is the aircraft carrier USS LINCOLN, the second largest ship in the United States' Atlantic Fleet. We are accompanied by three destroyers, three cruisers and numerous support vessels. I demand that you change your course 15 degrees north, that's ONE FIVE DEGREES NORTH, or counter-measures will be undertaken to ensure the safety of this ship.  Canadians: This is a lighthouse.  Your call.    \",\n",
       " \"       Q: How many programmers does it take to change a lightbulb?  A: NONE!   That's a hardware problem....    \",\n",
       " '       A Panda bear walks into a bar.  Sits down at a table and orders a beer  and a double cheeseburger.  After he is finished eating, he pulls out a gun and rips the place with gunfire.  Patrons scatter and dive under chairs and tables as the bear runs out the door.  After ensuring that no one is hurt,  the bartender races out the door, and calls after the bear \"What the hell did you do that for?\"  The bear calls back, \"I\\'m a Panda bear.  Look it up in the dictionary.\"    The bartender returns, pulls out his dictionary.  panda : \\\\Pan\"da\\\\, n. (Zo[\"o]l.) A small Asiatic mammal (Ailurus fulgens) having fine soft fur. It is related to the bears, and inhabits the mountains of Northern India. Eats shoots and leaves.    ',\n",
       " '       Early one morning a mother went to her sleeping son and woke him up.  \"Wake up, son.  It\\'s time to go to school.\"  \"But why, Mama?  I don\\'t want to go to school.\"  \"Give me two reasons why you don\\'t want to go to school.\"  \"One, all the children hate me. Two, all the teachers hate me,\"  \"Oh! that\\'s no reason. Come on, you have to go to school,\"   \"Give me two good reasons WHY I should go to school?\"    \"One, you are fifty-two years old. Two, you are the principal of the  school.\"     ',\n",
       " '       Reaching the end of a job interview, the human resources person asked a young engineer fresh out of Stanford,  \"And what starting salary were you looking for?\"  The engineer said, \"In the neighborhood of $125,000 a year, depending on the benefits package.\"  The interviewer said, \"Well, what would you say to a package of 5-weeks  vacation, 14 paid holidays, full medical and dental, company matching  retirement fund to 50% of salary, and a company car leased every 2 years -  say, a red Corvette?\"  The Engineer sat up straight and said, \"Wow! Are you kidding?\"  And the interviewer replied, \"Yeah, but you started it.\"    ',\n",
       " '       Two atoms are walking down the street when one  atom says to the other  \"Oh, my! I\\'ve lost an electron!\"  The second atom says\"Are you sure\"  The first replies \"I\\'m positive!\"    ',\n",
       " '       Just a thought ..  Before criticizing someone, walk a mile in their shoes.    Then when you do criticize them,  you will be a mile away and have their shoes !    ',\n",
       " '       Two attorneys went into a diner and ordered two drinks.  Then they produced  sandwiches from their briefcases and started to eat.  The owner became quite concerned and marched over and told them, \"You can\\'t eat your own sandwiches in here!\"  The attorneys looked at each other, shrugged their shoulders and then exchanged sandwiches.    ',\n",
       " '       A teacher is explaining to her class how different languages use  negatives differently.  She says, \"In all languages, a positive followed by a negative or a negative followed by a positive makes a negative.  In some languages, two negatives together make a positive, while in others they make a negative.  But in no language do two positives make a negative.\"    One of the students puts up his hand and says, \"Yeah, right.\"    ',\n",
       " \"       Age and Womanhood  1. Between the ages of 13 and 18 ... \\xa0\\xa0\\xa0\\xa0She is like Africa, virgin and unexplored.  2. Between the ages of 19 and 35 ... \\xa0\\xa0\\xa0\\xa0She is like Asia, hot and exotic.  3. Between the ages of 36 and 45 ... \\xa0\\xa0\\xa0\\xa0She is like America, fully explored, breathtakingly beautiful,and free with her resources.  4. Between the ages of 46 and 56 ... \\xa0\\xa0\\xa0\\xa0She is like Europe, exhausted but still has points of interest.  5. After 56 she is like Australia ... \\xa0\\xa0\\xa0\\xa0Everybody knows it's down there, but who gives a damn?    \",\n",
       " '       A bus station is where a bus stops. A train station is where a train stops.  On my desk I have a work station...    ',\n",
       " '       Q: Whats the difference between greeting a Queen and greeting the President of the United  States?  A: You only have to get on one knee to greet the queen.    ']"
      ]
     },
     "execution_count": 29,
     "metadata": {},
     "output_type": "execute_result"
    }
   ],
   "source": [
    "#Here we  have all the jokes in one place. We will use those afterwards in the reccomending\n",
    "j_text_data"
   ]
  },
  {
   "cell_type": "markdown",
   "id": "8b1803e5",
   "metadata": {},
   "source": [
    "## User-Item RS"
   ]
  },
  {
   "cell_type": "markdown",
   "id": "f30b8eb0",
   "metadata": {},
   "source": [
    "Generating User similarity matrix"
   ]
  },
  {
   "cell_type": "code",
   "execution_count": 30,
   "id": "039b1f7d",
   "metadata": {},
   "outputs": [
    {
     "name": "stdout",
     "output_type": "stream",
     "text": [
      "(24983, 24983)\n"
     ]
    }
   ],
   "source": [
    "data2=data.fillna(0) #With nan it wouldn't work\n",
    "user_cos_sim=cosine_similarity(data2)\n",
    "print(user_cos_sim.shape)"
   ]
  },
  {
   "cell_type": "markdown",
   "id": "07f7f15c",
   "metadata": {},
   "source": [
    "Reccomender function"
   ]
  },
  {
   "cell_type": "code",
   "execution_count": 31,
   "id": "6f9f7146",
   "metadata": {},
   "outputs": [],
   "source": [
    "def user_rec_joke(data, user_cos_sim, u, k=20,top_n=5):\n",
    "    #Getting joke location\n",
    "    joke_loc=data.index.get_loc(u)\n",
    "    #Index the user similarity matrix with joke location\n",
    "    similarity=user_cos_sim[joke_loc]\n",
    "    #top most similar users\n",
    "    sim_user=data.index[similarity.argpartition(-k)[-k:]]\n",
    "    #get sim_user mean rating for all jokes\n",
    "    rate_joke=data.loc[sim_user].mean(0).sort_values(ascending=False)\n",
    "   \n",
    "    seen_jokes=data.loc[u].gt(0)\n",
    "    seen_jokes_list=seen_jokes.index[seen_jokes].tolist()\n",
    "    reccomend_jokes=rate_joke.drop(seen_jokes_list).head(top_n)\n",
    "    \n",
    "    #reccomend top similar users rated movies\n",
    "    return reccomend_jokes"
   ]
  },
  {
   "cell_type": "code",
   "execution_count": 32,
   "id": "a9e7d67b",
   "metadata": {},
   "outputs": [
    {
     "data": {
      "text/plain": [
       "49    3.8750\n",
       "62    3.2715\n",
       "29    3.1235\n",
       "75    2.3715\n",
       "31    2.1875\n",
       "dtype: float64"
      ]
     },
     "execution_count": 32,
     "metadata": {},
     "output_type": "execute_result"
    }
   ],
   "source": [
    "#Here we can see the joke  id and rating (0 in this case is user)\n",
    "reccomend=user_rec_joke(data, user_cos_sim,23)\n",
    "reccomend"
   ]
  },
  {
   "cell_type": "markdown",
   "id": "6e00fcad",
   "metadata": {},
   "source": [
    "Now it's time to write out the jokes what were reccomended."
   ]
  },
  {
   "cell_type": "code",
   "execution_count": 33,
   "id": "9d4eda0a",
   "metadata": {},
   "outputs": [],
   "source": [
    "#Finding the jokes \n",
    "def get_joke_text(rec_j):\n",
    "    get_j_text=[]\n",
    "    for i in rec_j.index:\n",
    "        get_j_text.append(\"\\n Joke nr\"+str(i)+\"\\n\"+j_text_data[i]) #The \\n is there for when we print it out\n",
    "    return get_j_text"
   ]
  },
  {
   "cell_type": "code",
   "execution_count": 34,
   "id": "09144ecf",
   "metadata": {},
   "outputs": [
    {
     "name": "stdout",
     "output_type": "stream",
     "text": [
      "\n",
      " Joke nr49\n",
      "         A guy goes into confession and says to the priest, \"Father, I'm 80 years old, widower, with 11 grandchildren. Last night I met two beautiful flight attendants. They took me home and I made love to both of them. Twice.\"  The priest said: \"Well, my son, when was the last time you were in confession?\"  \"Never Father, I'm Jewish.\"  \"So then, why are you telling me?\"  \"I'm telling everybody.\"     \n",
      "\n",
      " Joke nr62\n",
      "         An engineer, a physicist and a mathematician are sleeping in a room. There is a fire in the room. The engineer wakes up, sees the fire, picks up the bucket of water and douses the fire and goes back to sleep.   Again there is fire in the room. This time, the physicist wakes up, notices the bucket, fills it with water, calculates the optimal trajectory and douses the fire in minimum amount of water and goes back to sleep.   Again there is fire. This time the mathematician wakes up.  He looks at the fire, looks at the bucket and the water and exclaims, \"A solution exists\" and goes back to sleep.     \n",
      "\n",
      " Joke nr29\n",
      "          Q: What's the difference between a Lawyer and a Plumber?  A: A Plumber works to unclog the system.      \n",
      "\n",
      " Joke nr75\n",
      "       There once was a man and a woman that both  got in  a terrible car wreck. Both of their vehicles   were completely destroyed, buy fortunately, no one  was   hurt.  In thankfulness, the woman said to the  man, 'We are both okay, so we should celebrate. I have   a  bottle of wine in my car, let's open it.'          So the woman got the bottleout of the car, and  handed it to the man. The man took a really big drink,  and handed the woman the bottle. The  woman  closed the bottle and put it down. The man  asked,   'Aren't you going to take a drink?'   The woman cleverly replied,  'No, I think I'll  just  wait for the cops to get here.'    \n",
      "\n",
      " Joke nr31\n",
      "          A man arrives at the gates of heaven. St. Peter asks, \"Religion?\"  The man says, \"Methodist.\" St. Peter looks down his list, and says,  \"Go to room 24, but be very quiet as you pass room 8.\"   Another man arrives at the gates of heaven. \"Religion?\" \"Baptist.\" \"Go to room 18, but be very quiet as you pass room 8.\"   A third man arrives at the gates. \"Religion?\" \"Jewish.\" \"Go to room 11, but be very quiet as you pass room 8.\"  The man says, \"I can understand there being different rooms for different religions, but why must I be quiet when I pass room 8?\" St. Peter tells him, \"Well the Catholics are in room 8,  and they think they're the only ones here.   \n"
     ]
    }
   ],
   "source": [
    "print(*get_joke_text(reccomend), sep=\"\\n\")"
   ]
  }
 ],
 "metadata": {
  "kernelspec": {
   "display_name": "Python 3",
   "language": "python",
   "name": "python3"
  },
  "language_info": {
   "codemirror_mode": {
    "name": "ipython",
    "version": 3
   },
   "file_extension": ".py",
   "mimetype": "text/x-python",
   "name": "python",
   "nbconvert_exporter": "python",
   "pygments_lexer": "ipython3",
   "version": "3.8.8"
  }
 },
 "nbformat": 4,
 "nbformat_minor": 5
}
